{
 "cells": [
  {
   "cell_type": "code",
   "execution_count": 13,
   "id": "0910149e-7f81-4260-8a58-481b60d6cf72",
   "metadata": {
    "tags": []
   },
   "outputs": [],
   "source": [
    "Apple = {\n",
    "    \"Nutrient\" : \"Fiber\"\n",
    "}"
   ]
  },
  {
   "cell_type": "code",
   "execution_count": 14,
   "id": "2ddf4326-4fd2-41f8-a9a8-30521245753c",
   "metadata": {
    "tags": []
   },
   "outputs": [],
   "source": [
    "Banana = {\n",
    "    \"Nutrient\" : \"Potassium\"\n",
    "}"
   ]
  },
  {
   "cell_type": "code",
   "execution_count": 18,
   "id": "b8f484c2-c951-4c99-97f6-5a2cc5b2b744",
   "metadata": {
    "tags": []
   },
   "outputs": [],
   "source": [
    "Potato = {\n",
    "    \"Nutrient\" : \"Vitamin C\"\n",
    "}"
   ]
  },
  {
   "cell_type": "code",
   "execution_count": 20,
   "id": "e35bf48d-6854-4192-8199-025996d2eb6d",
   "metadata": {
    "tags": []
   },
   "outputs": [],
   "source": [
    "Spinach = {\n",
    "    \"Nutrient\" : \"Vitamin A\"\n",
    "}"
   ]
  },
  {
   "cell_type": "code",
   "execution_count": 21,
   "id": "b60210dc-37dd-411e-bea5-dce1240c10a9",
   "metadata": {
    "tags": []
   },
   "outputs": [],
   "source": [
    "Cucumber = {\n",
    "    \"Nutrient\" : \"Vitamin K\"\n",
    "}"
   ]
  },
  {
   "cell_type": "code",
   "execution_count": 22,
   "id": "34824af6-4cfe-4323-8372-1b6c0c54b226",
   "metadata": {
    "tags": []
   },
   "outputs": [],
   "source": [
    "Carrot = {\n",
    "    \"Nutrient\" : \"Vitamin A\"\n",
    "}"
   ]
  },
  {
   "cell_type": "code",
   "execution_count": 23,
   "id": "23f2f917-abbe-492a-ac7e-485cbbf94131",
   "metadata": {
    "tags": []
   },
   "outputs": [],
   "source": [
    "Orange = {\n",
    "    \"Nutrient\" : \"Vitamin C\"\n",
    "}"
   ]
  },
  {
   "cell_type": "code",
   "execution_count": 24,
   "id": "d388766a-66c8-493f-95cc-996216d21eb1",
   "metadata": {
    "tags": []
   },
   "outputs": [],
   "source": [
    "Salmon = {\n",
    "    \"Nutrient\" : \"omega-3 fatty acid\"\n",
    "}"
   ]
  },
  {
   "cell_type": "code",
   "execution_count": 25,
   "id": "1b424142-5d05-484b-a499-87e7ec55fddb",
   "metadata": {
    "tags": []
   },
   "outputs": [],
   "source": [
    "Chicken = {\n",
    "    \"Nutrient\" : \"Vitamin B12\"\n",
    "}"
   ]
  },
  {
   "cell_type": "code",
   "execution_count": 26,
   "id": "6bd3cba1-ab63-4222-af7c-2cd53bf55673",
   "metadata": {
    "tags": []
   },
   "outputs": [],
   "source": [
    "myinfo = {\n",
    "    \"Apple\" : Apple,\n",
    "    \"Banana\" : Banana,\n",
    "    \"Potato\" : Potato,\n",
    "    \"Spinach\" : Spinach,\n",
    "    \"Cucumber\" : Cucumber,\n",
    "    \"Carrot\" : Carrot,\n",
    "    \"Orange\" : Orange,\n",
    "    \"Salmon\" : Salmon,\n",
    "    \"Chicken\" : Chicken\n",
    "}\n"
   ]
  },
  {
   "cell_type": "code",
   "execution_count": 27,
   "id": "bde8df8e-67d7-45dc-a8b6-534825d50049",
   "metadata": {
    "tags": []
   },
   "outputs": [
    {
     "name": "stdout",
     "output_type": "stream",
     "text": [
      "{'Apple': {'Nutrient': 'Fiber'}, 'Banana': {'Nutrient': 'Potassium'}, 'Potato': {'Nutrient': 'Vitamin C'}, 'Spinach': {'Nutrient': 'Vitamin A'}, 'Cucumber': {'Nutrient': 'Vitamin K'}, 'Carrot': {'Nutrient': 'Vitamin A'}, 'Orange': {'Nutrient': 'Vitamin C'}, 'Salmon': {'Nutrient': 'omega-3 fatty acid'}, 'Chicken': {'Nutrient': 'Vitamin B12'}}\n"
     ]
    }
   ],
   "source": [
    "print(myinfo)"
   ]
  },
  {
   "cell_type": "code",
   "execution_count": 28,
   "id": "f35e9348-8119-4796-948f-6d9c6c36efe9",
   "metadata": {
    "tags": []
   },
   "outputs": [
    {
     "name": "stdout",
     "output_type": "stream",
     "text": [
      "{'Nutrient': 'Fiber'}\n"
     ]
    }
   ],
   "source": [
    "print(myinfo[\"Apple\"])"
   ]
  },
  {
   "cell_type": "code",
   "execution_count": 34,
   "id": "0a568b37-b12c-43e0-b1bb-56b9dfbeb52f",
   "metadata": {
    "tags": []
   },
   "outputs": [],
   "source": [
    "import pandas as pd"
   ]
  },
  {
   "cell_type": "code",
   "execution_count": 35,
   "id": "7fb3dc95-5060-4f87-a079-e9d38d5297a9",
   "metadata": {
    "tags": []
   },
   "outputs": [
    {
     "data": {
      "text/html": [
       "<div>\n",
       "<style scoped>\n",
       "    .dataframe tbody tr th:only-of-type {\n",
       "        vertical-align: middle;\n",
       "    }\n",
       "\n",
       "    .dataframe tbody tr th {\n",
       "        vertical-align: top;\n",
       "    }\n",
       "\n",
       "    .dataframe thead th {\n",
       "        text-align: right;\n",
       "    }\n",
       "</style>\n",
       "<table border=\"1\" class=\"dataframe\">\n",
       "  <thead>\n",
       "    <tr style=\"text-align: right;\">\n",
       "      <th></th>\n",
       "      <th>Foods</th>\n",
       "      <th>Nutrients</th>\n",
       "    </tr>\n",
       "  </thead>\n",
       "  <tbody>\n",
       "    <tr>\n",
       "      <th>0</th>\n",
       "      <td>Apple</td>\n",
       "      <td>Fiber</td>\n",
       "    </tr>\n",
       "    <tr>\n",
       "      <th>1</th>\n",
       "      <td>Banana</td>\n",
       "      <td>Potassium</td>\n",
       "    </tr>\n",
       "    <tr>\n",
       "      <th>2</th>\n",
       "      <td>Potato</td>\n",
       "      <td>Vitamin-C</td>\n",
       "    </tr>\n",
       "    <tr>\n",
       "      <th>3</th>\n",
       "      <td>Spinach</td>\n",
       "      <td>Vitamin-A</td>\n",
       "    </tr>\n",
       "    <tr>\n",
       "      <th>4</th>\n",
       "      <td>Cucumber</td>\n",
       "      <td>Vitamin-K</td>\n",
       "    </tr>\n",
       "    <tr>\n",
       "      <th>5</th>\n",
       "      <td>Carrot</td>\n",
       "      <td>Vitamin-A</td>\n",
       "    </tr>\n",
       "    <tr>\n",
       "      <th>6</th>\n",
       "      <td>Orange</td>\n",
       "      <td>Vitamin-C</td>\n",
       "    </tr>\n",
       "    <tr>\n",
       "      <th>7</th>\n",
       "      <td>Salmon</td>\n",
       "      <td>omega-3-fatty-acid</td>\n",
       "    </tr>\n",
       "    <tr>\n",
       "      <th>8</th>\n",
       "      <td>Chicken</td>\n",
       "      <td>Vitamin-B12</td>\n",
       "    </tr>\n",
       "  </tbody>\n",
       "</table>\n",
       "</div>"
      ],
      "text/plain": [
       "      Foods           Nutrients\n",
       "0     Apple               Fiber\n",
       "1    Banana           Potassium\n",
       "2    Potato           Vitamin-C\n",
       "3   Spinach           Vitamin-A\n",
       "4  Cucumber           Vitamin-K\n",
       "5    Carrot           Vitamin-A\n",
       "6    Orange           Vitamin-C\n",
       "7    Salmon  omega-3-fatty-acid\n",
       "8   Chicken         Vitamin-B12"
      ]
     },
     "execution_count": 35,
     "metadata": {},
     "output_type": "execute_result"
    }
   ],
   "source": [
    "data = {\n",
    "    \"Foods\": [\"Apple\", \"Banana\", \"Potato\", \"Spinach\", \"Cucumber\", \"Carrot\", \"Orange\", \"Salmon\", \"Chicken\"],\n",
    "    \"Nutrients\": [\"Fiber\", \"Potassium\", \"Vitamin-C\", \"Vitamin-A\", \"Vitamin-K\", \"Vitamin-A\", \"Vitamin-C\", \"omega-3-fatty-acid\", \"Vitamin-B12\"]\n",
    "}\n",
    "df_example = pd.DataFrame(data)\n",
    "df_example"
   ]
  },
  {
   "cell_type": "code",
   "execution_count": 36,
   "id": "771663f6-9c49-4fbd-a138-a8cdee48a57f",
   "metadata": {
    "tags": []
   },
   "outputs": [
    {
     "data": {
      "text/html": [
       "<div>\n",
       "<style scoped>\n",
       "    .dataframe tbody tr th:only-of-type {\n",
       "        vertical-align: middle;\n",
       "    }\n",
       "\n",
       "    .dataframe tbody tr th {\n",
       "        vertical-align: top;\n",
       "    }\n",
       "\n",
       "    .dataframe thead th {\n",
       "        text-align: right;\n",
       "    }\n",
       "</style>\n",
       "<table border=\"1\" class=\"dataframe\">\n",
       "  <thead>\n",
       "    <tr style=\"text-align: right;\">\n",
       "      <th></th>\n",
       "      <th>Foods</th>\n",
       "      <th>Nutrients</th>\n",
       "      <th>Importances</th>\n",
       "    </tr>\n",
       "  </thead>\n",
       "  <tbody>\n",
       "    <tr>\n",
       "      <th>0</th>\n",
       "      <td>Apple</td>\n",
       "      <td>Fiber</td>\n",
       "      <td>Improve gut health</td>\n",
       "    </tr>\n",
       "    <tr>\n",
       "      <th>1</th>\n",
       "      <td>Banana</td>\n",
       "      <td>Potassium</td>\n",
       "      <td>Restores energy lost during strenuous activity</td>\n",
       "    </tr>\n",
       "    <tr>\n",
       "      <th>2</th>\n",
       "      <td>Potato</td>\n",
       "      <td>Vitamin-C</td>\n",
       "      <td>Packed with nutrition</td>\n",
       "    </tr>\n",
       "    <tr>\n",
       "      <th>3</th>\n",
       "      <td>Spinach</td>\n",
       "      <td>Vitamin-A</td>\n",
       "      <td>Protect the health of eyes</td>\n",
       "    </tr>\n",
       "    <tr>\n",
       "      <th>4</th>\n",
       "      <td>Cucumber</td>\n",
       "      <td>Vitamin-K</td>\n",
       "      <td>Prevent dehydration</td>\n",
       "    </tr>\n",
       "    <tr>\n",
       "      <th>5</th>\n",
       "      <td>Carrot</td>\n",
       "      <td>Vitamin-A</td>\n",
       "      <td>Improve immunity</td>\n",
       "    </tr>\n",
       "    <tr>\n",
       "      <th>6</th>\n",
       "      <td>Orange</td>\n",
       "      <td>Vitamin-C</td>\n",
       "      <td>Protects cells from damage</td>\n",
       "    </tr>\n",
       "    <tr>\n",
       "      <th>7</th>\n",
       "      <td>Salmon</td>\n",
       "      <td>omega-3-fatty-acid</td>\n",
       "      <td>Improves brain function</td>\n",
       "    </tr>\n",
       "    <tr>\n",
       "      <th>8</th>\n",
       "      <td>Chicken</td>\n",
       "      <td>Vitamin-B12</td>\n",
       "      <td>Help to build muscle tissue</td>\n",
       "    </tr>\n",
       "  </tbody>\n",
       "</table>\n",
       "</div>"
      ],
      "text/plain": [
       "      Foods           Nutrients   \n",
       "0     Apple               Fiber  \\\n",
       "1    Banana           Potassium   \n",
       "2    Potato           Vitamin-C   \n",
       "3   Spinach           Vitamin-A   \n",
       "4  Cucumber           Vitamin-K   \n",
       "5    Carrot           Vitamin-A   \n",
       "6    Orange           Vitamin-C   \n",
       "7    Salmon  omega-3-fatty-acid   \n",
       "8   Chicken         Vitamin-B12   \n",
       "\n",
       "                                      Importances  \n",
       "0                              Improve gut health  \n",
       "1  Restores energy lost during strenuous activity  \n",
       "2                           Packed with nutrition  \n",
       "3                      Protect the health of eyes  \n",
       "4                             Prevent dehydration  \n",
       "5                                Improve immunity  \n",
       "6                      Protects cells from damage  \n",
       "7                         Improves brain function  \n",
       "8                     Help to build muscle tissue  "
      ]
     },
     "execution_count": 36,
     "metadata": {},
     "output_type": "execute_result"
    }
   ],
   "source": [
    "df_example[\"Importances\"]=[\"Improve gut health\", \"Restores energy lost during strenuous activity\", \"Packed with nutrition\", \"Protect the health of eyes\", \"Prevent dehydration\", \"Improve immunity\", \"Protects cells from damage\", \"Improves brain function\", \"Help to build muscle tissue\"]\n",
    "df_example"
   ]
  },
  {
   "cell_type": "code",
   "execution_count": 1,
   "id": "c60f1430-be25-48d8-9ac6-d4884b90af14",
   "metadata": {
    "tags": []
   },
   "outputs": [],
   "source": [
    "import matplotlib.pyplot as plt"
   ]
  },
  {
   "cell_type": "code",
   "execution_count": 2,
   "id": "e0382352-b6a6-4b8e-a56b-8f40b583fb28",
   "metadata": {},
   "outputs": [],
   "source": [
    "import numpy as np"
   ]
  },
  {
   "cell_type": "code",
   "execution_count": 4,
   "id": "8ea56d65-6c62-4e9e-809f-91044cf9714c",
   "metadata": {
    "tags": []
   },
   "outputs": [
    {
     "data": {
      "image/png": "[encoded data removed]",
      "text/plain": [
       "<Figure size 640x480 with 1 Axes>"
      ]
     },
     "metadata": {},
     "output_type": "display_data"
    },
    {
     "name": "stdout",
     "output_type": "stream",
     "text": [
      "Amount of Vitamin C\n"
     ]
    }
   ],
   "source": [
    "y = np.array([4.6, 8.7, 12, 28.1, 2.8, 5.9, 53.2, 3.9, 0])\n",
    "mylabels = [\"Apple\", \"Banana\", \"Potato\", \"Spinach\", \"Cucumber\", \"Carrot\", \"Orange\", \"Salmon\", \"Chicken\"]\n",
    "plt.pie(y, labels = mylabels)\n",
    "plt.show()\n",
    "print(\"Amount of Vitamin C\")"
   ]
  },
  {
   "cell_type": "code",
   "execution_count": null,
   "id": "ea0c0211-121c-4192-9ae4-81b2cd4c386d",
   "metadata": {},
   "outputs": [],
   "source": []
  }
 ],
 "metadata": {
  "kernelspec": {
   "display_name": "Python 3 (ipykernel)",
   "language": "python",
   "name": "python3"
  },
  "language_info": {
   "codemirror_mode": {
    "name": "ipython",
    "version": 3
   },
   "file_extension": ".py",
   "mimetype": "text/x-python",
   "name": "python",
   "nbconvert_exporter": "python",
   "pygments_lexer": "ipython3",
   "version": "3.11.3"
  }
 },
 "nbformat": 4,
 "nbformat_minor": 5
}
